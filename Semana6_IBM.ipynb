{
  "nbformat": 4,
  "nbformat_minor": 0,
  "metadata": {
    "colab": {
      "provenance": [],
      "authorship_tag": "ABX9TyP1od9jrzDZ+TLNi9p3EiZs",
      "include_colab_link": true
    },
    "kernelspec": {
      "name": "python3",
      "display_name": "Python 3"
    },
    "language_info": {
      "name": "python"
    }
  },
  "cells": [
    {
      "cell_type": "markdown",
      "metadata": {
        "id": "view-in-github",
        "colab_type": "text"
      },
      "source": [
        "<a href=\"https://colab.research.google.com/github/PosgradoMNA/actividades-de-aprendizaje-cesar-flores/blob/main/Semana6_IBM.ipynb\" target=\"_parent\"><img src=\"https://colab.research.google.com/assets/colab-badge.svg\" alt=\"Open In Colab\"/></a>"
      ]
    },
    {
      "cell_type": "markdown",
      "source": [
        "##César Flores Vivanco\n",
        "A01173318\n"
      ],
      "metadata": {
        "id": "_0xZnhbllRth"
      }
    },
    {
      "cell_type": "markdown",
      "source": [
        "#Estadisticas descriptivas\n",
        "\n",
        "Funcion .describe() en pandas\n",
        "\n",
        "Esta funcion genera una tabla con los datos estadísticos básicos como la conteo, desviación estandar, media, moda, mínimo, máximo, cuartiles.\n",
        "\n",
        "Función .value_counts() \n",
        "\n",
        "Esta función divide la información en categorias\n",
        "\n",
        "\n",
        "#Boxplot\n",
        "\n",
        "Se usa la paqueteria de seaborn para las graficas de caja (blxplot en ingles)\n",
        "\n",
        "    sns.boxplot(x= \"drive-wheels\", y=\"price\", data=df)\n",
        "\n",
        "\n",
        "La grafica de pastel nos ayuda a observar de manera visual los datos de forma ordenada. Algunos aspectos importantes a observar es en donde se encuentra el 50% de la información, los outliers, entre otros.\n",
        "\n",
        "# Scatter plot\n",
        "\n",
        "La grafica de disperción nos ayuda a observar la correlacion de los datos en dos variables\n",
        "\n",
        "1. Predictor/ variables independientes eje x- axis - es el resultado\n",
        "2. target/ variables dependientes eje y-axis - es el objetivo que se busca predecir\n",
        "\n",
        "Para usar la grafica de dispersion se usará la libreria de Matplotlib con la funcion \"scatter\", ejemplo\n",
        "\n",
        "Para dibujar la tabla\n",
        "\n",
        "    x = df[\"engine-size\"]\n",
        "    y = df[\"price\"]\n",
        "    plt.scatter(x,y)\n",
        "\n",
        "Para agregar información  a la tabla como los nombres\n",
        "\n",
        "    plt.title(\"Scatterplot of Engine Size vs Price\")\n",
        "    plt.xlabel(\"Engine Size\")\n",
        "    plt.ylabel(\"price\")\n",
        "\n",
        "\n"
      ],
      "metadata": {
        "id": "xqIB2yjLlWER"
      }
    },
    {
      "cell_type": "markdown",
      "source": [
        "#GroupBy in Python\n",
        "\n",
        "Se encuentra en la liberia de Pandas para usar el método .grouby()\n",
        "\n",
        "Puede ser aplicado en variables categoricas\n",
        "\n",
        "Group data en categorias\n",
        "\n",
        "En uno o más varables \n",
        "\n",
        "    df_test= df[[\"drive-wheels\", \"body-style\", \"price\"]]\n",
        "    df_grp = df_test.groupby([\"drive-wheels\", \"body-style\"], as_index=false).mean()\n",
        "    df_grp\n",
        "\n",
        "De acuerdo con el video este es una forma facil de aplicar pero dificil de leer\n",
        "\n",
        "#Pivot\n",
        "\n",
        "Con esta funcion lo que se busca hacer una tabla con entre diferentes categorias\n",
        "\n",
        "Una variable en comun entre las columnas y filas\n",
        "\n",
        "    df_pivot = df_grp.pivot(index=\"drive-wheels\", columns =\"body-style\")\n",
        "\n",
        "Esta es una mejor versión, en este se puede relacionar datos como la media \n",
        "\n",
        "#Heatmap\n",
        "\n",
        "Esta grafica muestra la relación entre multiples variables con rango entre la intensidad de color\n",
        "\n",
        "    plt.pcolor(df_pivot, cmap='RdBu')\n",
        "    plt.colorbar()\n",
        "    plt.show()\n"
      ],
      "metadata": {
        "id": "CSym_KfvyoyN"
      }
    },
    {
      "cell_type": "markdown",
      "source": [
        "#Analysis of variance (ANOVA)\n",
        "\n",
        "Es la comparación estadística de grupos\n",
        "\n",
        "    df_anova = df[['make'],['price']]\n",
        "    grouped_anova= df_anova.groupb(['make'])\n",
        "    anova_results_1=stats.f_oneway(grouped_anova.get_group(\"honda\")[\"price\"],grouped_anova.get_group(\"subaru\")[\"price\"])\n",
        "\n",
        "Los resultados obtenidos para que se pueda saber la correlación es \n",
        "\n",
        "f_score: mayor a 1\n",
        "\n",
        "pvalue: menor de 0.05"
      ],
      "metadata": {
        "id": "Dr0kXAN_INqR"
      }
    },
    {
      "cell_type": "markdown",
      "source": [
        "#Correlación\n",
        "\n",
        "Mediadas que son extendidas en diferentes variables interdependientes\n",
        "\n",
        "Ejemplo entre dos correlaciones (engine-size and price)\n",
        "\n",
        "Para agregar la grafíca de dispersión\n",
        "\n",
        "    sns.regplot(x='engine-size', y='price', data=df)\n",
        "\n",
        "por agregar la linea entre las graficas\n",
        "\n",
        "    plt.ylim(0,)\n",
        "\n",
        "    "
      ],
      "metadata": {
        "id": "iOTsmizVvJ_-"
      }
    },
    {
      "cell_type": "markdown",
      "source": [
        "#Pearson Correlación\n",
        "\n",
        "1. Mide la fortaleza de la correlación entre dos variables o rasgos\n",
        "  Coeficiente de correlación\n",
        "  P-value\n",
        "\n",
        "Coeficiente de correlación\n",
        "\n",
        "    Cercano a +1: relación positiva\n",
        "    Cercano a -1: relación negativa\n",
        "    Cercano a 0: ninguna relación\n",
        "\n",
        "P-value\n",
        "\n",
        "    p-value<0.001 Fuerte certeza o correlacion\n",
        "    p-value<0.05 Moderada\n",
        "    p-value<0.1 debil \n",
        "    p-value>0.1 Ninguna certeza o correlacion\n",
        "\n",
        "Fuerte correlación\n",
        "\n",
        "    Coeficiente de correlación cercano a +1 o -1\n",
        "    P-value menor a 0.001\n",
        "\n",
        "\n"
      ],
      "metadata": {
        "id": "RlmzdmrUwmWY"
      }
    }
  ]
}