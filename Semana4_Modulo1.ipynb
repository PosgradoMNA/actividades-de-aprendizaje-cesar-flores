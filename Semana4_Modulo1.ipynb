{
  "nbformat": 4,
  "nbformat_minor": 0,
  "metadata": {
    "colab": {
      "provenance": [],
      "authorship_tag": "ABX9TyOPs9ZV77utgDfDYzE4AgDn",
      "include_colab_link": true
    },
    "kernelspec": {
      "name": "python3",
      "display_name": "Python 3"
    },
    "language_info": {
      "name": "python"
    }
  },
  "cells": [
    {
      "cell_type": "markdown",
      "metadata": {
        "id": "view-in-github",
        "colab_type": "text"
      },
      "source": [
        "<a href=\"https://colab.research.google.com/github/PosgradoMNA/actividades-de-aprendizaje-cesar-flores/blob/main/Semana4_Modulo1.ipynb\" target=\"_parent\"><img src=\"https://colab.research.google.com/assets/colab-badge.svg\" alt=\"Open In Colab\"/></a>"
      ]
    },
    {
      "cell_type": "markdown",
      "source": [
        "# Problema\n",
        "\n",
        "El objetivo del problema es, ¿cual es el valor del carro de Tom?\n",
        "\n",
        "Algunas preguntas que se plantea en el video, ¿hay información de los precios de los carros y de sus caracteristicas?, ¿cuales son los atributos que afecta el precio de sus carros?\n",
        "\n"
      ],
      "metadata": {
        "id": "p7j_nl9AdWYg"
      }
    },
    {
      "cell_type": "markdown",
      "source": [
        "# Entender la información\n",
        "\n",
        "Es entender las cuales son los atributos de los datos y como son interpretados ya sea a través de numeros en rangos o clasificaciones, o por letras y palabras. En este apartado es importante saber como se clasifica la información de los atributos.\n",
        "\n",
        "Es importante identificar los atributos importantes que se llaman Tarject o label"
      ],
      "metadata": {
        "id": "MCWxB9Vafl2C"
      }
    },
    {
      "cell_type": "markdown",
      "source": [
        "# Librerias de Python para ciencia de datos\n",
        "\n",
        "Librerias\n",
        "\n",
        "1. Informacion cientifica:\n",
        "\n",
        "  Pandas; estructura de datos y herramientas,\n",
        "\n",
        "  Numpy; array y matrices,\n",
        "\n",
        "  SciPy; integrales, resolver ecuaciones diferenciales, optimizacion\n",
        "\n",
        "2. Visualizacion\n",
        "\n",
        "  Matplolib; plot (grafico de puntos) y graficas (el más popular)\n",
        "\n",
        "  Seaborn; plot: heat maps, series de tiempo, violin plot\n",
        "\n",
        "3. algoritmos\n",
        "\n",
        "  sckit-learn: machine learning (regresion, clasificacion...)\n",
        "\n",
        "  \n",
        "\n",
        "\n",
        "\n"
      ],
      "metadata": {
        "id": "tnxZRdW9jcTY"
      }
    },
    {
      "cell_type": "markdown",
      "source": [
        "# Importando y exportando información en Python\n",
        "\n",
        "Dos importantes propiedades\n",
        "\n",
        "  Formatos: (.csv, .json, .xlsx,.hdf...)\n",
        "\n",
        "  File path of dataset (ruta de arcivo): computer(archivos internos de la computadora) and internet(link)\n",
        "\n",
        "  \n",
        "\n"
      ],
      "metadata": {
        "id": "4WPOAI9Ongb0"
      }
    },
    {
      "cell_type": "markdown",
      "source": [
        "En el ejemplo pratico es importante primero usar la funcion de \"import as\" para usar las librerias.\n",
        "\n",
        "En este caso para la libreria de pandas"
      ],
      "metadata": {
        "id": "eB6UP97zpbAs"
      }
    },
    {
      "cell_type": "code",
      "source": [
        "import pandas as pd"
      ],
      "metadata": {
        "id": "BTdMQFMopkK8"
      },
      "execution_count": null,
      "outputs": []
    },
    {
      "cell_type": "markdown",
      "source": [
        "Después leer el tipo de arvicho que vamos a extraer los datos. Para leer se usará la funcion de \"read\" para leer el vinculo del link\n",
        "\n",
        "link = link: http://\n",
        "\n",
        "df = link.read.csv(link, header = None)\n",
        "\n",
        "\n",
        "Para especificar que no tiene columnas con los nombres se usa \"haeder\" = None "
      ],
      "metadata": {
        "id": "iDfSeTzmptxj"
      }
    },
    {
      "cell_type": "markdown",
      "source": [
        "# Printing the dataframe in Python\n",
        "\n",
        "df es la abreviacion de dataframe que se puede imprimir como una tabla\n",
        "\n",
        "df.head(n) es para mostrar las primeras filas (numero de filas a mostrar)\n",
        "\n",
        "df.tail(n) es para mostrar las ultimas filas"
      ],
      "metadata": {
        "id": "LBPhn_-LrxRG"
      }
    },
    {
      "cell_type": "markdown",
      "source": [
        "# Añadir nombre a las columnas\n",
        "\n",
        "Primero se agrega la variable en donde pondremos el nombre de las columnas\n",
        "\n",
        "nombre = [año, lugar, edad]\n",
        "\n",
        "después agregar la siguiente funcion\n",
        "\n",
        "df.columns = nombre"
      ],
      "metadata": {
        "id": "u83Y_b-2u0D7"
      }
    },
    {
      "cell_type": "markdown",
      "source": [
        "# Exporting a Pandas dataframe to cvs\n",
        "\n",
        "Para guardar los avances de los dataframes modificados\n",
        "\n",
        "desde la propia compuadora sería\n",
        "\n",
        "path(\"c:\\\\windoms\\\\automovil.csv\")\n",
        "\n",
        "df.to_csv(path)"
      ],
      "metadata": {
        "id": "6CPEPbGsw-Qe"
      }
    },
    {
      "cell_type": "markdown",
      "source": [
        "# Basic insights from the data\n",
        "\n",
        "Tipos de datos\n",
        "\n",
        "Tipos de distribución\n",
        "\n",
        "Localizar valores potenciales con los datos\n",
        "\n",
        "Tipos de datos\n",
        "Pandas\n",
        "1. Object -strings (palabras) o numeros\n",
        "2. float\n",
        "3. int\n",
        "4. timelines \n",
        "\n",
        "en Pandas se puede conocer que tipo datos tiene"
      ],
      "metadata": {
        "id": "uun966-XCOl0"
      }
    },
    {
      "cell_type": "markdown",
      "source": [
        "# Dataframe.describe()\n",
        "\n",
        "Con esta función descibe al panda de descripciones estadísticas\n",
        "\n",
        "En caso de querer sacar todas las estadisticas de las columnas se debe de usar la siguiente funcion\n",
        "\n",
        "df.describe(include=\"all\")\n",
        "\n",
        "es importante que solo se mencionará las estadisticas básica con los que sean numeros; int, float, y en los str solamente se puede obtener valores como moda que son más cualitativos"
      ],
      "metadata": {
        "id": "2g1bR4MCFC5E"
      }
    },
    {
      "cell_type": "markdown",
      "source": [
        "# Dataframe.info\n",
        "\n",
        "muestra la información de las primeras 30 valores y de los 30 ultimos valores "
      ],
      "metadata": {
        "id": "P3LxubiwGx6c"
      }
    }
  ]
}