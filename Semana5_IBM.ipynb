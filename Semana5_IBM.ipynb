{
  "nbformat": 4,
  "nbformat_minor": 0,
  "metadata": {
    "colab": {
      "provenance": [],
      "authorship_tag": "ABX9TyOd2bx8cBY9v7CLdGYw8lWY",
      "include_colab_link": true
    },
    "kernelspec": {
      "name": "python3",
      "display_name": "Python 3"
    },
    "language_info": {
      "name": "python"
    }
  },
  "cells": [
    {
      "cell_type": "markdown",
      "metadata": {
        "id": "view-in-github",
        "colab_type": "text"
      },
      "source": [
        "<a href=\"https://colab.research.google.com/github/PosgradoMNA/actividades-de-aprendizaje-cesar-flores/blob/main/Semana5_IBM.ipynb\" target=\"_parent\"><img src=\"https://colab.research.google.com/assets/colab-badge.svg\" alt=\"Open In Colab\"/></a>"
      ]
    },
    {
      "cell_type": "markdown",
      "source": [
        "César Flores Vivanco\n",
        "\n",
        "A01173318"
      ],
      "metadata": {
        "id": "xXN2wLK0h3qP"
      }
    },
    {
      "cell_type": "markdown",
      "source": [
        "# Missing Values\n",
        "\n",
        "Ocurre cuando no hay valor en la base de datos para una variable in una observación\n",
        "\n",
        "Pueden representarse como \"?\", \"N\\A\", 0 o solo como una celda en blanco\n",
        "\n",
        "¿Qué hacer si hace falta datos?\n",
        "\n",
        "Borrar los datos\n",
        "\n",
        "1. eliminar las variables\n",
        "2. eliminar la información de entrada\n",
        "\n",
        "Reemplazar la entrada de información\n",
        "\n",
        "1. Reemplazar con un promedio \n",
        "2. Reemplazar con frecuencia\n",
        "3. Reemplazar basado bajo otras funciones \n",
        "\n",
        "\n",
        "\n"
      ],
      "metadata": {
        "id": "0kFBUTWPh5jx"
      }
    },
    {
      "cell_type": "markdown",
      "source": [
        "# ¿Cómo eliminar los missing values en Python?\n",
        "\n",
        "una de las formas para eliminar datos es por medio del metodo \n",
        "\n",
        "dataframes.dropna():\n",
        "\n",
        "se tiene que espeficicar cuales columnas se deben de eliminar \n",
        "\n",
        "axis= 0 elimina los datos de las filas\n",
        "\n",
        "axis= 1 elimina los datos de las columnas\n",
        "\n",
        "ejemplo\n",
        "\n",
        "    df.dropna(subset=[\"price\"], axis = 0, inplace = true)\n",
        "\n",
        "en este ejemplo se pone subset para especificar la columna, axis para especificar que elimine las filas, e inplace para reemplazar la nueva base de datos\n",
        "\n",
        "otro ejemplo se puede usar el siguiente\n",
        "\n",
        "    df = df.dropna(subset=[\"price\"], axis = 0)\n",
        "\n",
        "Este ejemplo es el mismo que el anterior pero con otro procedimiento.\n",
        "\n",
        "Es importante mencionar que esta funcion no modifica la base de datos\n",
        "\n"
      ],
      "metadata": {
        "id": "CyIzlV7tvZ9V"
      }
    },
    {
      "cell_type": "markdown",
      "source": [
        "# ¿Cómo reemplazar los missing values en Python?\n",
        "\n",
        "una forma de hacerlo es de la siguiente\n",
        "\n",
        "    df.replace(missing_value, new_value):\n",
        "\n",
        "Esta funcion lo que hace es reemplazar el dato vacio con el promedio de los datos\n",
        "\n",
        "para aplicar el ejemplo primero se tiene que hacer de la siguiente forma\n",
        "\n",
        "Primer paso:\n",
        "\n",
        "sacar el promedio\n",
        "\n",
        "    mean = df[\"nombre de la columna\"].mean()\n",
        "\n",
        "    df[\"nombre de la columna\"].replace(np.nan, mean)\n",
        "\n",
        "En este paso replace se especifica dentro de las columnas (np.nan) con \"mean\"\n",
        "\n",
        "\n"
      ],
      "metadata": {
        "id": "jNOBSgPdyl3G"
      }
    },
    {
      "cell_type": "markdown",
      "source": [
        "# Formateando datos\n",
        "\n",
        "Los datos son usualmente recolectados de diferentes lugares y almacenes en diferentes formatos\n",
        "\n",
        "Traer la información estandard de expresiones permitiendo a usuarios generar diferente resultados "
      ],
      "metadata": {
        "id": "oB7tzuY73NCd"
      }
    },
    {
      "cell_type": "markdown",
      "source": [
        "# Apliciar calculos enteros en cada columna\n",
        "\n",
        "Convertir datos numericos a otros datos numericos de todas las columnas como en conversines de metros a pulgadas, kilos a libras, galoses a litros, etc.\n",
        "\n",
        "    df[\"city-mpg\"]= 235/df[\"city-mpg\"]\n",
        "\n",
        "ahora para combiar el nombre de la nueva columna\n",
        "\n",
        "    df.rename(columns = (\"city-mpg\": \"city-L/100km\"), inplace = true)\n",
        "\n"
      ],
      "metadata": {
        "id": "nNzq3q2hyZ07"
      }
    },
    {
      "cell_type": "markdown",
      "source": [
        "# Corregir data types\n",
        "\n",
        "En ocasiones la información que buscamos se encuentra en otro formato de datos\n",
        "\n",
        "Algunos datos en Python son\n",
        "\n",
        "1. Object: para tecto\n",
        "2. int64: para numeros\n",
        "3. float64: para numeros con decimales\n",
        "\n",
        "para identificar los data types\n",
        "\n",
        "    dataframe.dtype()\n",
        "\n",
        "Para convertir los types:\n",
        "\n",
        "    dataframe.astype()\n",
        "\n",
        "Ejemplo de convertir una columna a otra\n",
        "\n",
        "    df[\"price\"] = df[\"price\"].astype(\"int\")\n",
        "\n"
      ],
      "metadata": {
        "id": "qcg_vKTs6su6"
      }
    },
    {
      "cell_type": "markdown",
      "source": [
        "# Normalización de datos\n",
        "\n",
        "Uniforma los valores caracteristicas con diferentes rangos. Estos son para datos normalizados\n",
        "\n",
        "Datos no normalizados son diferentes de comparar más de dos variables como edad e ingresos. En ocasiones se puede usar el metodo de regresión, pero los resultados estarán sesgados pero eso no significa que es necesariamente importante como predictor\n",
        "\n",
        "Metodos de normalización de datos\n",
        "\n",
        "1. Simple feature scaling: divide el valor máximo con los demás valores entre un rango entre 1 a 0\n",
        "2. Min-Max: toma el valor minimo se resta entre la variable, y entre la resta con el valor maximo. Igualmente es entre 1 a 0\n",
        "3. Standard core o Z-score: divie el valor menos el promedio entre la desviacion estandar. Los valores rondan entre 0 y puede rondar entre -3 a +3\n",
        "\n",
        "Ejemplo\n",
        "\n",
        "Con pandas\n",
        "\n",
        "Simple feature scaling\n",
        "\n",
        "    df[\"length\"] = df[\"length\"]/df[\"length\"].max()\n",
        "\n",
        "\n",
        "Min-Max\n",
        "\n",
        "    df[\"length\"] = (df[\"length\"]-df[\"length\"].min())/\n",
        "                  (df[\"length\"].max()-df[\"length\"].min())\n",
        "\n",
        "Z-score\n",
        "\n",
        "    df[\"length\"]= (df[\"length\"]-df[\"length\"].mean())/df[\"length\"].std()\n",
        "\n"
      ],
      "metadata": {
        "id": "mATK-xV6OqSZ"
      }
    },
    {
      "cell_type": "markdown",
      "source": [
        "# Binning in Python\n",
        "\n",
        "El binning es cuando se categoriza los datos en grupos que se llamaran \"bins\"\n",
        "\n",
        "1. Primero se debe de usar la función de Numpy \"linspace\n",
        "\n",
        "    bins = np.linspace(min(df[\"price\"]),max(df[\"price\"]),4)\n",
        "\n",
        "Para usar la funcion de linspace es .linspace(inicio,final,cantidad de valores a mostrar,etc\n",
        "\n",
        "Importante recodar que es una grafica, por lo tanto se mostraran 4 barras\n",
        "\n",
        "https://numpy.org/doc/stable/reference/generated/numpy.linspace.html \n",
        "\n",
        "2. Segundo es agregar losnombre de las columnas\n",
        "\n",
        "    group_names = [\"low\",\"Medium\",\"High\"]\n",
        "\n",
        "nombre de los bins o subgrupos\n",
        "\n",
        "3. Agregar una nueva columna con los bins o nuevas clasificaciones\n",
        "\n",
        "    df[\"price-binned\"]= pd.cut(df[\"price\"], bins.label=group_names, include_lowest=true)\n",
        "\n",
        "En esta parte se usa la funcion de pandas que es \"cut\" para segmentar y clasificar los valores en bins \n",
        "\n",
        "Las funciones de \"cut\"(base de datos(df), .label para aplicar los parametros de la variable (bins, en este caso) dividido por los parametros de group_names, include_lowest = true significa: Si el primer intervalo debe incluirse a la izquierda o no.)\n",
        "\n",
        "https://pandas.pydata.org/docs/reference/api/pandas.cut.html \n",
        "\n",
        "\n",
        "\n",
        "\n",
        "\n",
        "\n",
        "\n",
        "\n",
        "\n",
        "\n"
      ],
      "metadata": {
        "id": "DkmtlUZNJ_u-"
      }
    },
    {
      "cell_type": "markdown",
      "source": [
        "# Cambiando categorias variables en cuantitativas variables en Python\n",
        "\n",
        "Problema\n",
        "\n",
        "La mayoria de los modelos estadísticos no pueden tomar los objetos (strings) como salidas\n",
        "\n",
        "En estos casos es pasar los datos objetos (strings) en datos númericos como (strings) \n",
        "\n",
        "Solución \n",
        "\n",
        "1. añadir dummy variables en cada categoria\n",
        "2. asignar como 0 o 1 en cada categoria\n",
        "\n",
        "En este caso los valores de la columa se pasan en columnas con valores númericos \n",
        "\n",
        "#Dummy variables \n",
        "\n",
        "1. Usar el metodo \n",
        "\n",
        "    pandas.get_dummies() \n",
        "\n",
        "2. Convertir variables culitativas en variables continuas a 0 o 1 \n",
        "\n",
        "ejemplo \n",
        "\n",
        "    pd.getdummies(df[\"fuel\"])\n",
        "\n"
      ],
      "metadata": {
        "id": "YPxlZkM_rVEW"
      }
    }
  ]
}