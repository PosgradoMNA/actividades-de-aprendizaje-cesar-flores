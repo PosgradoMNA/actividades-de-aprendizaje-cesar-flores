{
  "nbformat": 4,
  "nbformat_minor": 0,
  "metadata": {
    "colab": {
      "provenance": [],
      "authorship_tag": "ABX9TyP9wGlOHq/w5peu3ZBKZtGL",
      "include_colab_link": true
    },
    "kernelspec": {
      "name": "python3",
      "display_name": "Python 3"
    },
    "language_info": {
      "name": "python"
    }
  },
  "cells": [
    {
      "cell_type": "markdown",
      "metadata": {
        "id": "view-in-github",
        "colab_type": "text"
      },
      "source": [
        "<a href=\"https://colab.research.google.com/github/PosgradoMNA/actividades-de-aprendizaje-cesar-flores/blob/main/Actividad_1.ipynb\" target=\"_parent\"><img src=\"https://colab.research.google.com/assets/colab-badge.svg\" alt=\"Open In Colab\"/></a>"
      ]
    },
    {
      "cell_type": "code",
      "execution_count": null,
      "metadata": {
        "colab": {
          "base_uri": "https://localhost:8080/"
        },
        "id": "pTRnhehk4c_Y",
        "outputId": "ac6fccba-9da9-4170-ace9-15d44e36eda8"
      },
      "outputs": [
        {
          "output_type": "stream",
          "name": "stdout",
          "text": [
            "Hello Python\n",
            "2.0\n",
            "1\n",
            "4\n",
            "70\n",
            "Li\n",
            "0246\n",
            "12\n",
            "3\n",
            "['b', 'c']\n",
            "{'Thriller', 'Michael Jackson', 1982}\n",
            "{'C', 'A', 'E', 'B'}\n",
            "{'C', 'B'}\n",
            "{'a', 'b'}\n"
          ]
        }
      ],
      "source": [
        "#César Flores Vivanco\n",
        "#a01173318\n",
        "\n",
        "print(\"Hello Python\")\n",
        "\n",
        "# El uso de \"#\" es para generar comentarios\n",
        "\n",
        "\"\"\"las disticiones de diferentes variables de datos son: \n",
        "str que es para datos en letras, es importante mencionar que van en \"\" \n",
        "int que es para datos de numero enteros (1)\n",
        "float que es para datos decimales (1.0)\n",
        "bool que son para datos de verdadero o falso\"\"\"  \n",
        "\n",
        "# tambien el cambio de type de un a otro tipo de llama type casting que como ejemplo es pasar un int a float\n",
        "\n",
        "print(float(2))\n",
        "# este es un ejemplo de booleanos\n",
        "print(int(bool(1)))\n",
        "\n",
        "# Expresiones son las expresiones matematicas algebrahicas como suma, resta, division entre otras.\n",
        "# Tambien las operaciones entre parentesis se realizan primero ()\n",
        "\n",
        "# Las variaciones son los valores que se generan a las variables que generamos\n",
        "print(2+2)\n",
        "\n",
        "# ejemplo son el valor de x que aveces le ponemos otro nombre como calificacion \n",
        "x=50\n",
        "type(x)\n",
        "print(x+20)\n",
        "\n",
        "# Operaciones en cadena\n",
        "\n",
        "''' Strings \n",
        "Michael Jackson\n",
        "En este ejemplo se habla sobre la cantidad de caracteres que tiene Michael Jackson que para\n",
        "este caso se empieza a contar desde 0, por lo tanto es desde 0 a 14. Cada espacio\n",
        "se denomina Index\n",
        "\n",
        "ejemplos \n",
        "serian Name[0]:M Name[13]:o \n",
        "\n",
        "en casos negativos comenzaria al reves\n",
        "ejemplos \n",
        "Name [-1]:n Name[-15]:M\n",
        "'''\n",
        "''' Slicing \n",
        "Siguiendo el ejemplo anterior sería mostrar un conjunto de datos\n",
        "Name[0:4]:Mich Name[8:12]:Jack\n",
        "\n",
        "Stride \n",
        "es otro tipo de string que busca separar las letras\n",
        "\n",
        "Para separar de par en par toda la frase seria\n",
        "Name[::2]:\"McalJcsn\" \n",
        "\n",
        "Para separar hasta un limite de la frase sería\n",
        "Name[0:5:2]:\"Mca\" que significa que desde la \"M hasta la a\" agrega en par\n",
        "\n",
        "Len\n",
        "\n",
        "La funcion Len sirve para saber la cantidad de letras hay; contando tambien los espacios,\n",
        "dando como resultado 15\n",
        "\n",
        "len(\"Michael Jackson\"):15\n",
        "\n",
        "Tambien se puede agregar texto a una variable string\n",
        "ejemplo\n",
        "Name: \"Michael Jackson\"\n",
        "Statement= Name + \"is the best\" dando como resultado \"Michael Jackson is the best\"\n",
        "\n",
        "Tuples\n",
        "\n",
        "se multiplica las variables de string como\n",
        "3* \"Michael Jackson\"\n",
        "da como resultaro Michael JacksonMichael JacksonMichael Jackson '''\n",
        "\n",
        "# Escape sequences\n",
        "\n",
        "''' \"\\\"\n",
        "\n",
        "\\n\n",
        "sirve para hacer un saldo de linea\n",
        "cuando usamos print(\"Michael Jackson \\n is the best\")\n",
        "\n",
        "Michael Jackson\n",
        " is the best\n",
        " \n",
        "\\t\n",
        "representa un tab\n",
        "ejemplo\n",
        "print(\"Michael Jackson \\t is the best\")\n",
        " \n",
        "Michael Jackson     is the best\n",
        "\n",
        "\\\\\n",
        "\n",
        "si quieres agregar un \"\\\" debes de agragar doble \"\\\"\n",
        "print(\"Michael Jackson \\\\ is the best\")\n",
        "tambien puedes poner una r\n",
        "print(r\"Michael Jackson \\ is the best\")\n",
        "'''\n",
        "# String Methods\n",
        "\n",
        "''' \n",
        "upper()\n",
        "\n",
        "Pasar un texto de minuscula a MAYUSCULA\n",
        "A=\"Thiller is the sixth studio album\"\n",
        "B=A.upper()\n",
        "B: THILLER IS THE SICXTH STUDIO ALBUM\n",
        "\n",
        "replace\n",
        "\n",
        "remplazar un string por otro\n",
        "\n",
        "A=\"Michael Jackson is the best\"\n",
        "B=A.replace('Michael','Janet')\n",
        "\n",
        "find\n",
        "\n",
        "para encontrar un string\n",
        "Name='Michael Jackson'\n",
        "name.find('el'):5 quiere decir que se encuentra en el 5 puesto; recordar que empieza a contar\n",
        "desde 0. \n",
        "\n",
        "Name.fin('Jack'):8 tambien quiere decir que empieza la letra en el 8'''\n",
        "\n",
        "name='Lizz'\n",
        "print(name[0:2])\n",
        "\n",
        "var='01234567'\n",
        "print(var[::2])\n",
        "\n",
        "x='1'+'2'\n",
        "print(x)\n",
        "\n",
        "# Tuple\n",
        "\n",
        "'''es una tabla en orden de secuencia que no tiene un orden secuancial estructurado\n",
        "ejemplo ratings=(10,8,4,7,10,11,2)\n",
        "Tambien incluye cualquier tipo de type como string, int, float\n",
        "\n",
        "tuple1=(\"disco\",10,1.2)\n",
        "\n",
        "para añadir mas datos a la tabla se puede agregar de la siguiente forma\n",
        "\n",
        "tuple2= taple1 + ('hard rock',10)\n",
        "dando como resultado \n",
        "(\"disco\",10,1.2,'hard rock',10)\n",
        "\n",
        "tambien se pude usar el Slicing\n",
        "\n",
        "tuple2[0:3] es igual (\"disco\",10,1.2)\n",
        "\n",
        "otro ejeplo es tuple2[3:5]=> ('hard rock',10) es importante mencionar que se debe de escribir\n",
        "numero mayor que en este caso es 5 y recodando que el limete es 4\n",
        "\n",
        "  Es importante mecnionar que los tuples NO SON MODIFICABLES\n",
        "\n",
        "La unica forma de modifica es por medio de la funcion Sorted\n",
        "ejemplo\n",
        "Ratings = (10,8,4,7,10,11,2)\n",
        "RatingsSorted=sorted(ratings)\n",
        "\n",
        "Tuples: Nesting\n",
        "\n",
        "Es cuando las tablas tienen mas datos entre parentecis\n",
        "ejemplo\n",
        "NT = (1,2,(\"pop\", \"rock\"),(1,2),(\"disco\",1,2))\n",
        "\n",
        "esto quiere decir que 1,2,3( es \"pop\",rock\") que conforma uno solo. En caso de que quisieramos\n",
        "la palabra rock sería de la siguiente forma\n",
        "ejemplo\n",
        "NT[2] = (\"pop\", \"rock\")\n",
        "NT[2][1]= \"rock\"\n",
        "\n",
        "'''\n",
        "# List\n",
        "\n",
        "''' \n",
        "es una lista de forma ordenada\n",
        "se representa por los []\n",
        "es modificable\n",
        "\n",
        "dentro de la lista se puede tener string, int, float, list y tuples\n",
        "ejemplo\n",
        "L=[\"Michael Jackson\",10.1, 1988] \n",
        "\n",
        "Ya que List es una tabla modificable se puede usar la funcion Extend\n",
        "ejemplo\n",
        "L=['Michael Jackson',10.1, 1988] \n",
        "L.extend(['pop',10])\n",
        "\n",
        "para agregar una tabla \n",
        "\n",
        "'''\n",
        "A=(0,1,2,3)\n",
        "print(A[3])\n",
        "\n",
        "B=[\"a\",\"b\",\"c\"]\n",
        "print(B[1:])\n",
        "\n",
        "# Sets\n",
        "\n",
        "'''Es la union de los list y tuples el cual filtra la informacion en uno solo y \n",
        "se representa por los {}\n",
        "ejemplo\n",
        "'''\n",
        "album_list=['Michael Jackson','Thriller','Thriller',1982]\n",
        "album_set=set(album_list)\n",
        "print(album_set)\n",
        "\n",
        "#set operations\n",
        "\n",
        "A={'A','B','C'}\n",
        "'''para añadir mas informacion al set se usa add'''\n",
        "A.add('E')\n",
        "print(A)\n",
        "\n",
        "''' para remover se usa remove'''\n",
        "A={'A','B','C'}\n",
        "A.remove(\"A\")\n",
        "print(A)\n",
        "\n",
        "'''para encontar algun objeto en set de usa in'''\n",
        "A={'A','B','C'}\n",
        "\"B\" in A\n",
        "\n",
        "#Sets: Mathematical set operations\n",
        "\n",
        "''' Es la interacion entre dos sets'''\n",
        "\n",
        "''' para comparar los set y sacar los resultador iguales'''\n",
        "album_set_1={'a','b','d'}\n",
        "album_set_2={'a','b','e'}\n",
        "\n",
        "album_set_3= album_set_1 & album_set_2\n",
        "print(album_set_3)\n",
        "\n",
        "''' para la union de dos sets es union'''\n",
        "\n",
        "album_set_1={'a','b','d'}\n",
        "album_set_2={'a','b','e'}\n",
        "\n",
        "album_set_1.union(album_set_2)\n",
        "\n",
        "'''para buscar datos de un set a otro issubset, la congruencia es el primero es\n",
        "menor al segundo es true, sino es false'''\n",
        "\n",
        "album_set_1={'a','b','d'}\n",
        "album_set_2={'a','b'}\n",
        "\n",
        "album_set_2.issubset(album_set_1)\n",
        "\n",
        "S={'A','B','C'}\n",
        "\n",
        "U={'A','Z','C'}\n",
        "\n",
        "U.union(S)\n",
        "\n",
        "#Diccionaries\n",
        "\n",
        "''' \n",
        "los diccionarios se distingues por los {}\n",
        "tienen claves que cuentan con valores\n",
        "son inmodificables y unicos\n",
        "cada clave o key es separado por comas\n",
        "\n",
        "la funcion se representa por \"dict\"\n",
        "\n",
        "se representan de la siguiente forma\n",
        "{'thriller':'1982','black':'1990'}\n",
        "'''\n",
        "D = {'a':0,'b':1,'c':2}\n",
        "\n",
        "\n"
      ]
    },
    {
      "cell_type": "markdown",
      "source": [
        "Comparation operators\n",
        "Es comparar un valor u operación basado en una condicionante que produce un Boolean\n",
        "\n",
        "ejemplo\n",
        "\n",
        "a=6\n",
        "\n",
        "operacion \n",
        "a==7\n",
        "resultado es falso\n",
        "\n",
        "a==6 \n",
        "resultado es verdadero"
      ],
      "metadata": {
        "id": "JOAbn6yonIvQ"
      }
    },
    {
      "cell_type": "code",
      "source": [
        "a=6\n",
        "a==7"
      ],
      "metadata": {
        "id": "rGRb83TBofFQ",
        "outputId": "1a188479-7b56-4ad0-a834-56dbd2ad67e5",
        "colab": {
          "base_uri": "https://localhost:8080/"
        }
      },
      "execution_count": 4,
      "outputs": [
        {
          "output_type": "execute_result",
          "data": {
            "text/plain": [
              "False"
            ]
          },
          "metadata": {},
          "execution_count": 4
        }
      ]
    },
    {
      "cell_type": "code",
      "source": [
        "a=6\n",
        "a==6"
      ],
      "metadata": {
        "id": "P_ag_tLcozR5",
        "outputId": "1ca0b188-ea85-44fb-b8d4-66aeba0aa20a",
        "colab": {
          "base_uri": "https://localhost:8080/"
        }
      },
      "execution_count": 5,
      "outputs": [
        {
          "output_type": "execute_result",
          "data": {
            "text/plain": [
              "True"
            ]
          },
          "metadata": {},
          "execution_count": 5
        }
      ]
    },
    {
      "cell_type": "markdown",
      "source": [
        "en este apartado se usa las funciones de > mayor que, < menor que, == igual, ! no igual.\n",
        "\n",
        "También se puede realizar con strings \n",
        "ejemplo\n",
        "\"nombre\"==\"apellido\"\n",
        "el resulado es falso ya que no son iguales\n"
      ],
      "metadata": {
        "id": "mrEAuORQpbY4"
      }
    },
    {
      "cell_type": "code",
      "source": [
        "\"nombre\"==\"apellido\""
      ],
      "metadata": {
        "id": "l9WBBSCCqFHN",
        "outputId": "a743ccfc-bfc8-489f-8003-208c9e150af7",
        "colab": {
          "base_uri": "https://localhost:8080/"
        }
      },
      "execution_count": 6,
      "outputs": [
        {
          "output_type": "execute_result",
          "data": {
            "text/plain": [
              "False"
            ]
          },
          "metadata": {},
          "execution_count": 6
        }
      ]
    },
    {
      "cell_type": "markdown",
      "source": [
        "Branching\n",
        "\n",
        "the if statement\n",
        "\n",
        "ejemplo\n",
        "\n",
        "age=17\n",
        "\n",
        "if(age>18):\n",
        "\n",
        "    print(\"verdadero, entra\"\n",
        "\n",
        "print(\"falso, no entra\")"
      ],
      "metadata": {
        "id": "t7KU9SOaqOwk"
      }
    },
    {
      "cell_type": "code",
      "source": [
        "age=17\n",
        "\n",
        "if(age>18):\n",
        "\n",
        "  print(\"verdadero, entra\")\n",
        "\n",
        "print(\"falso, no entra\")"
      ],
      "metadata": {
        "id": "3j675xjgrbBV",
        "outputId": "6cedcb2d-7508-40fd-cf4a-a0f29c5c9aed",
        "colab": {
          "base_uri": "https://localhost:8080/"
        }
      },
      "execution_count": 9,
      "outputs": [
        {
          "output_type": "stream",
          "name": "stdout",
          "text": [
            "falso, no entra\n"
          ]
        }
      ]
    },
    {
      "cell_type": "markdown",
      "source": [
        "the else statement\n",
        "\n",
        "es una segunda opcion que se conoce como entonces\n",
        "\n"
      ],
      "metadata": {
        "id": "s-qN_3eur9Ww"
      }
    },
    {
      "cell_type": "code",
      "source": [
        "age=17\n",
        "\n",
        "if(age>18):\n",
        "  print(\"verdadero, entra\")\n",
        "else:\n",
        "  print(\"que siga\")\n",
        "print(\"falso, no entra\")"
      ],
      "metadata": {
        "id": "ei-cULefuUom",
        "outputId": "90fc7ba1-a56c-4440-f848-3ea4f5bcaac0",
        "colab": {
          "base_uri": "https://localhost:8080/"
        }
      },
      "execution_count": 16,
      "outputs": [
        {
          "output_type": "stream",
          "name": "stdout",
          "text": [
            "que siga\n",
            "falso, no entra\n"
          ]
        }
      ]
    },
    {
      "cell_type": "markdown",
      "source": [
        "the elif statement\n",
        "\n",
        "es cuando hay más de una condicionante"
      ],
      "metadata": {
        "id": "tWDHOcRuvWN_"
      }
    },
    {
      "cell_type": "code",
      "source": [
        "boleto=1\n",
        "\n",
        "if(boleto>1):\n",
        "  print(\"boleto 2\")\n",
        "elif(boleto==1):\n",
        "  print(\"boleto 1\")\n",
        "else:\n",
        "  print(\"no tiene boleto\")\n",
        "print(\"gracias\") #tambien se puede dejar las comillas"
      ],
      "metadata": {
        "id": "JNEfdMMkw6N4",
        "outputId": "94140b46-eeaa-4c95-e825-ab731e72ba62",
        "colab": {
          "base_uri": "https://localhost:8080/"
        }
      },
      "execution_count": 18,
      "outputs": [
        {
          "output_type": "stream",
          "name": "stdout",
          "text": [
            "boleto 1\n",
            "\n"
          ]
        }
      ]
    },
    {
      "cell_type": "markdown",
      "source": [
        "Logic operators\n",
        "\n",
        "toma valores booleanos y produce diferentes valores booleanos\n",
        "\n",
        "el primer ejemplo es \n",
        "\n",
        "not\n",
        "\n",
        "cuando una entrada es \"verdadera\" da como resultado \"falso\", eso quiere decir que dice lo contrario entre verdadero y falso\n",
        "\n",
        "or\n",
        "\n",
        "la funcion de 'or' es la funcion de dos condicionantes que debe de cumplir por lo menos con una condicionante para ser verdadera"
      ],
      "metadata": {
        "id": "tSwihuZFyJuo"
      }
    },
    {
      "cell_type": "code",
      "source": [
        "album_year=1990\n",
        "\n",
        "if(album_year<1970)or(album_year>1989):\n",
        "  print(\"el album esta entre los años 70's y 90's\")\n",
        "else:\n",
        "  print(\"el album esta en 1980's\")\n",
        "\n"
      ],
      "metadata": {
        "id": "3lkS8ZiY0mgd",
        "outputId": "3269b73b-7b24-4f7b-949c-1b51fa5384a7",
        "colab": {
          "base_uri": "https://localhost:8080/"
        }
      },
      "execution_count": 19,
      "outputs": [
        {
          "output_type": "stream",
          "name": "stdout",
          "text": [
            "el album esta entre los años 70's y 90's\n"
          ]
        }
      ]
    },
    {
      "cell_type": "markdown",
      "source": [
        "and\n",
        "\n",
        "es la funcion que debe de coincidir con todas las variables verdaderas"
      ],
      "metadata": {
        "id": "2at3c-QH1RXA"
      }
    },
    {
      "cell_type": "code",
      "source": [
        "album_year=1983\n",
        "if(album_year>1970)and(album_year<1990):\n",
        "  print(\"el album es de los 80's\")"
      ],
      "metadata": {
        "id": "VmvAkvfm1xg5",
        "outputId": "73b3916b-ff3c-4ef0-bab3-57fce3224eb6",
        "colab": {
          "base_uri": "https://localhost:8080/"
        }
      },
      "execution_count": 20,
      "outputs": [
        {
          "output_type": "stream",
          "name": "stdout",
          "text": [
            "el album es de los 80's\n"
          ]
        }
      ]
    },
    {
      "cell_type": "code",
      "source": [
        "#quizz\n",
        "\n",
        "x='a'\n",
        "\n",
        "if(x!='a'):\n",
        "\n",
        "  print(\"This is not a.\")\n",
        "\n",
        "else:\n",
        "\n",
        "  print(\"This is a.\")"
      ],
      "metadata": {
        "id": "OwRbo_M720WV",
        "outputId": "2b1c76a6-77f1-46f4-f4a5-bdea1ad49947",
        "colab": {
          "base_uri": "https://localhost:8080/"
        }
      },
      "execution_count": 26,
      "outputs": [
        {
          "output_type": "stream",
          "name": "stdout",
          "text": [
            "This is a.\n"
          ]
        }
      ]
    },
    {
      "cell_type": "markdown",
      "source": [
        "Loops\n",
        "\n",
        "range\n",
        "\n",
        "Formula es (0,...,N-1)\n",
        "\n",
        "ejemplo\n",
        "\n",
        "range(3)\n",
        "\n",
        "resultado es [0,1,2]\n",
        "\n",
        "range(10:15)\n",
        "\n",
        "resultado es [10,11,12,13,14]\n"
      ],
      "metadata": {
        "id": "uUyMtsuf4XFk"
      }
    },
    {
      "cell_type": "markdown",
      "source": [
        "For loops\n",
        "\n",
        "busca valores de forma repetida dentro de las tablas\n",
        "\n",
        "ejemplos\n",
        "\n"
      ],
      "metadata": {
        "id": "A7bdNMOi4_Ye"
      }
    },
    {
      "cell_type": "markdown",
      "source": [
        "for i in\n",
        "\n",
        "esta funcion sirve para cambiar los valores de un indice"
      ],
      "metadata": {
        "id": "HgBVrbWlANFj"
      }
    },
    {
      "cell_type": "code",
      "source": [
        "squares=[\"rojo\",\"amarilo\",\"azul\",\"morado\"]\n",
        "for i in range(0,4):\n",
        "  #en esta función la \"i\" significa que va incrementado el valor\n",
        "  squares[1]=(\"white\")\n",
        "  #lo que este dentro del [] cambia el valor, pero si ponemos \"i\" ó [i] se hara en todas los valores\n",
        "print(squares)\n",
        "\n"
      ],
      "metadata": {
        "id": "VQ0wEijP_k0b",
        "outputId": "295ec1b0-491f-4260-98d0-82de799d6104",
        "colab": {
          "base_uri": "https://localhost:8080/"
        }
      },
      "execution_count": 34,
      "outputs": [
        {
          "output_type": "stream",
          "name": "stdout",
          "text": [
            "['rojo', 'white', 'azul', 'morado']\n"
          ]
        }
      ]
    },
    {
      "cell_type": "code",
      "source": [
        "squares=[\"rojo\",\"amarilo\",\"azul\",\"morado\"]\n",
        "for i in range(0,4):\n",
        "  #en esta función la \"i\" significa que va incrementado el valor\n",
        "  squares[i]=(\"white\")\n",
        "  #lo que este dentro del [] cambia el valor, pero si ponemos \"i\" ó [i] se hara en todas los valores\n",
        "print(squares)"
      ],
      "metadata": {
        "id": "wjUDmI_6BYIj",
        "outputId": "a7a40f9d-e479-44e2-a5fc-1a36341848b4",
        "colab": {
          "base_uri": "https://localhost:8080/"
        }
      },
      "execution_count": 36,
      "outputs": [
        {
          "output_type": "stream",
          "name": "stdout",
          "text": [
            "['white', 'white', 'white', 'white']\n"
          ]
        }
      ]
    },
    {
      "cell_type": "markdown",
      "source": [
        "fon in\n",
        "\n",
        "significa que buscará valores dentro del indice\n"
      ],
      "metadata": {
        "id": "HltnKQ6FBjt1"
      }
    },
    {
      "cell_type": "code",
      "source": [
        "squares=[\"rojo\",\"amarilo\",\"azul\",\"morado\"]\n",
        "for i,square in enumerate(squares):\n",
        "  square\n",
        "  i\n",
        "  \n"
      ],
      "metadata": {
        "id": "slyVVObSB8F6"
      },
      "execution_count": 45,
      "outputs": []
    },
    {
      "cell_type": "markdown",
      "source": [
        "While loops\n",
        "\n",
        "es igual que for pero con condiciones\n",
        "\n",
        "ejemplo"
      ],
      "metadata": {
        "id": "Qm6MgAGNDc43"
      }
    },
    {
      "cell_type": "code",
      "source": [
        "squares=[\"orange\",\"orange\",\"purple\",\"blue\"]\n",
        "Newsquares=[]\n",
        "i=0\n",
        "while(squares[i]==\"orange\"):\n",
        "  Newsquares.append(square[i])\n",
        "  i=i+1"
      ],
      "metadata": {
        "id": "kI3KMMxlD3VC"
      },
      "execution_count": 46,
      "outputs": []
    },
    {
      "cell_type": "code",
      "source": [
        "#examen\n",
        "A=[3,4,5]\n",
        "\n",
        "for a in A:\n",
        "  print(a)\n",
        "\n",
        "x=3\n",
        "\n",
        "y=1\n",
        "\n",
        "while(y!=x):\n",
        "\n",
        "  print(y)\n",
        "\n",
        "  y=y+1"
      ],
      "metadata": {
        "id": "24Hpv1sEEwz3",
        "outputId": "6d8fc1a0-367d-412e-8ed4-ed0bf8427a8d",
        "colab": {
          "base_uri": "https://localhost:8080/"
        }
      },
      "execution_count": 50,
      "outputs": [
        {
          "output_type": "stream",
          "name": "stdout",
          "text": [
            "3\n",
            "4\n",
            "5\n",
            "1\n",
            "2\n"
          ]
        }
      ]
    }
  ]
}